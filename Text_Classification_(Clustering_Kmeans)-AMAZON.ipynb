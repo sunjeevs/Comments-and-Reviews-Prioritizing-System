{
 "cells": [
  {
   "cell_type": "code",
   "execution_count": 1,
   "id": "c7db9121",
   "metadata": {
    "id": "c7db9121"
   },
   "outputs": [],
   "source": [
    "import numpy as np \n",
    "import pandas as pd \n",
    "import matplotlib.pyplot as plt\n",
    "import seaborn as sns\n",
    "from sklearn.feature_extraction import text\n",
    "from sklearn.feature_extraction.text import TfidfVectorizer\n",
    "from sklearn.cluster import KMeans\n",
    "from nltk.tokenize import RegexpTokenizer\n",
    "from nltk.stem.snowball import SnowballStemmer\n",
    "%matplotlib inline\n",
    "import itertools\n",
    "import json"
   ]
  },
  {
   "cell_type": "code",
   "execution_count": 2,
   "id": "2f6c5ba2",
   "metadata": {},
   "outputs": [
    {
     "name": "stdout",
     "output_type": "stream",
     "text": [
      "Requirement already satisfied: openpyxl in c:\\users\\sabarish\\anaconda3\\lib\\site-packages (3.0.10)Note: you may need to restart the kernel to use updated packages.\n",
      "\n",
      "Requirement already satisfied: et_xmlfile in c:\\users\\sabarish\\anaconda3\\lib\\site-packages (from openpyxl) (1.1.0)\n"
     ]
    }
   ],
   "source": [
    "pip install openpyxl"
   ]
  },
  {
   "cell_type": "code",
   "execution_count": 3,
   "id": "5da8dcc7",
   "metadata": {
    "id": "5da8dcc7",
    "outputId": "4ce301c5-f7c2-424d-e3aa-3812d88423ba"
   },
   "outputs": [
    {
     "data": {
      "text/html": [
       "<div>\n",
       "<style scoped>\n",
       "    .dataframe tbody tr th:only-of-type {\n",
       "        vertical-align: middle;\n",
       "    }\n",
       "\n",
       "    .dataframe tbody tr th {\n",
       "        vertical-align: top;\n",
       "    }\n",
       "\n",
       "    .dataframe thead th {\n",
       "        text-align: right;\n",
       "    }\n",
       "</style>\n",
       "<table border=\"1\" class=\"dataframe\">\n",
       "  <thead>\n",
       "    <tr style=\"text-align: right;\">\n",
       "      <th></th>\n",
       "      <th>Comments</th>\n",
       "    </tr>\n",
       "  </thead>\n",
       "  <tbody>\n",
       "    <tr>\n",
       "      <th>0</th>\n",
       "      <td>It’s good that they have the return/replacemen...</td>\n",
       "    </tr>\n",
       "    <tr>\n",
       "      <th>1</th>\n",
       "      <td>Product is being shelled at high price if you ...</td>\n",
       "    </tr>\n",
       "    <tr>\n",
       "      <th>2</th>\n",
       "      <td>First time similar item received in damaged co...</td>\n",
       "    </tr>\n",
       "    <tr>\n",
       "      <th>3</th>\n",
       "      <td>Easy to use...nice product</td>\n",
       "    </tr>\n",
       "    <tr>\n",
       "      <th>4</th>\n",
       "      <td>Overall the product is good and the quality wh...</td>\n",
       "    </tr>\n",
       "  </tbody>\n",
       "</table>\n",
       "</div>"
      ],
      "text/plain": [
       "                                            Comments\n",
       "0  It’s good that they have the return/replacemen...\n",
       "1  Product is being shelled at high price if you ...\n",
       "2  First time similar item received in damaged co...\n",
       "3                         Easy to use...nice product\n",
       "4  Overall the product is good and the quality wh..."
      ]
     },
     "execution_count": 3,
     "metadata": {},
     "output_type": "execute_result"
    }
   ],
   "source": [
    "data = pd.read_excel(\"Comments.xlsx\",usecols =[\"Comments\"], engine = 'openpyxl')\n",
    "#data = data[\"Comments\"]\n",
    "data.head()"
   ]
  },
  {
   "cell_type": "code",
   "execution_count": 4,
   "id": "d9ee6470",
   "metadata": {
    "id": "d9ee6470",
    "outputId": "35efb4d4-e0ce-42fe-b9bc-61a7bcc1785f",
    "scrolled": false
   },
   "outputs": [
    {
     "name": "stdout",
     "output_type": "stream",
     "text": [
      "<class 'pandas.core.frame.DataFrame'>\n",
      "RangeIndex: 3449 entries, 0 to 3448\n",
      "Data columns (total 1 columns):\n",
      " #   Column    Non-Null Count  Dtype \n",
      "---  ------    --------------  ----- \n",
      " 0   Comments  3372 non-null   object\n",
      "dtypes: object(1)\n",
      "memory usage: 27.1+ KB\n"
     ]
    }
   ],
   "source": [
    "data.info()"
   ]
  },
  {
   "cell_type": "code",
   "execution_count": 5,
   "id": "6ad3a15b",
   "metadata": {
    "id": "6ad3a15b",
    "outputId": "3ca49084-96b6-48cd-fb4e-e172fcfe4982"
   },
   "outputs": [
    {
     "data": {
      "text/html": [
       "<div>\n",
       "<style scoped>\n",
       "    .dataframe tbody tr th:only-of-type {\n",
       "        vertical-align: middle;\n",
       "    }\n",
       "\n",
       "    .dataframe tbody tr th {\n",
       "        vertical-align: top;\n",
       "    }\n",
       "\n",
       "    .dataframe thead th {\n",
       "        text-align: right;\n",
       "    }\n",
       "</style>\n",
       "<table border=\"1\" class=\"dataframe\">\n",
       "  <thead>\n",
       "    <tr style=\"text-align: right;\">\n",
       "      <th></th>\n",
       "      <th>Comments</th>\n",
       "    </tr>\n",
       "  </thead>\n",
       "  <tbody>\n",
       "    <tr>\n",
       "      <th>606</th>\n",
       "      <td>(Device NOT Work)</td>\n",
       "    </tr>\n",
       "    <tr>\n",
       "      <th>700</th>\n",
       "      <td>(Device NOT Work)</td>\n",
       "    </tr>\n",
       "    <tr>\n",
       "      <th>1002</th>\n",
       "      <td>(Device NOT Work)</td>\n",
       "    </tr>\n",
       "    <tr>\n",
       "      <th>3046</th>\n",
       "      <td>...bisogna saperlo programmare in C++. Ho mess...</td>\n",
       "    </tr>\n",
       "    <tr>\n",
       "      <th>3037</th>\n",
       "      <td>...bisogna saperlo programmare in C++. Ho mess...</td>\n",
       "    </tr>\n",
       "    <tr>\n",
       "      <th>311</th>\n",
       "      <td>40mm fan + gard  box me nehi</td>\n",
       "    </tr>\n",
       "    <tr>\n",
       "      <th>320</th>\n",
       "      <td>40mm fan + gard  box me nehi</td>\n",
       "    </tr>\n",
       "    <tr>\n",
       "      <th>104</th>\n",
       "      <td>A cell was not detecting by the charger and wh...</td>\n",
       "    </tr>\n",
       "  </tbody>\n",
       "</table>\n",
       "</div>"
      ],
      "text/plain": [
       "                                               Comments\n",
       "606                                   (Device NOT Work)\n",
       "700                                   (Device NOT Work)\n",
       "1002                                  (Device NOT Work)\n",
       "3046  ...bisogna saperlo programmare in C++. Ho mess...\n",
       "3037  ...bisogna saperlo programmare in C++. Ho mess...\n",
       "311                        40mm fan + gard  box me nehi\n",
       "320                        40mm fan + gard  box me nehi\n",
       "104   A cell was not detecting by the charger and wh..."
      ]
     },
     "execution_count": 5,
     "metadata": {},
     "output_type": "execute_result"
    }
   ],
   "source": [
    "data[data['Comments'].duplicated(keep=False)].sort_values('Comments').head(8)"
   ]
  },
  {
   "cell_type": "code",
   "execution_count": 6,
   "id": "f5cb099a",
   "metadata": {
    "id": "f5cb099a"
   },
   "outputs": [],
   "source": [
    "data = data.drop_duplicates('Comments')"
   ]
  },
  {
   "cell_type": "code",
   "execution_count": 7,
   "id": "81d0c7dd",
   "metadata": {
    "id": "81d0c7dd"
   },
   "outputs": [],
   "source": [
    "punc = ['.', ',', '\"', \"'\", '?', '!', ':', ';', '(', ')', '[', ']', '{', '}',\"%\"]\n",
    "stop_words = text.ENGLISH_STOP_WORDS.union(punc)\n",
    "desc = data['Comments'].values\n",
    "vectorizer = TfidfVectorizer(stop_words = stop_words)\n",
    "X = vectorizer.fit_transform(desc.astype('U'))"
   ]
  },
  {
   "cell_type": "code",
   "execution_count": 8,
   "id": "d9bf460d",
   "metadata": {
    "id": "d9bf460d",
    "outputId": "287af7c8-fb77-40ee-d138-8979b6a3aa02"
   },
   "outputs": [
    {
     "name": "stdout",
     "output_type": "stream",
     "text": [
      "9457\n",
      "['200', '2000', '2000rpm', '2000w', '200w', '2010', '2011', '2012', '2014', '2016', '2019', '2019it', '2020', '2021', '2040', '2048', '20days', '21', '21st', '22', '2200mah', '220v', '23', '230', '2341', '23litre', '24', '240p', '240v', '249', '25', '250', '250watt', '2560', '25mtr', '26', '27', '27mtr10mtrs', '290', '29th', '2a', '2a03', '2days', '2gb', '2kg', '2mm', '2nd', '2s', '2v', '2x', '30', '300', '3000', '300ml', '300rs', '300w', '30c', '30supply', '30v', '31vit', '32', '3200', '32256', '328', '328p', '32bit', '32u4', '32x32', '33', '35', '350', '35000', '35c', '35mm', '366', '37', '38', '380', '3898647641', '38height', '39', '3a', '3amps', '3b', '3d', '3k', '3ma', '3mnths', '3rd', '3s', '3star', '3v', '3v3', '3vconnect', '3vsellers', '3vなためarduino', '3vのデバイスを動かすための降圧チップが必要だったりとか何かと面倒', '3vの電源はあるものの面倒だった', '40', '400', '4000', '400rpm', '404', '40km', '40mm', '40s', '40x40', '41cons1', '4262', '44', '4400', '450', '464', '47', '4700', '48', '4809', '498', '499', '4b', '4fachen', '4gb', '4tage', '4th', '4v', '50', '500', '500hz', '510', '512', '512k', '5200mah', '53', '54', '555', '5ghz', '5in1', '5k', '5m', '5mb', '5mins', '5mp', '5switching', '5th', '5v', '5v3a', '5vdc', '5volts', '5x', '60', '6000', '6050', '63width', '64', '64gb', '65', '6502', '69', '6a', '6hour', '6mhz', '6v', '70', '700', '7000', '70s', '750', '75mm', '7days', '7nov', '7onths', '7v', '8000', '80length', '810', '8266', '8266s', '84', '85storage', '87mhz', '8gb', '8gbmodel', '8mhz', '8mp', '8ohm', '90', '900', '90v', '96', '99', '999', '9v', 'a0', 'a000066', 'a1', 'a3', 'a4', 'aa', 'aan', 'aangesloten']\n"
     ]
    },
    {
     "name": "stderr",
     "output_type": "stream",
     "text": [
      "C:\\Users\\Sabarish\\anaconda3\\lib\\site-packages\\sklearn\\utils\\deprecation.py:87: FutureWarning: Function get_feature_names is deprecated; get_feature_names is deprecated in 1.0 and will be removed in 1.2. Please use get_feature_names_out instead.\n",
      "  warnings.warn(msg, category=FutureWarning)\n"
     ]
    }
   ],
   "source": [
    "word_features = vectorizer.get_feature_names()\n",
    "print(len(word_features))\n",
    "print(word_features[100:300])"
   ]
  },
  {
   "cell_type": "code",
   "execution_count": 9,
   "id": "6372d3f8",
   "metadata": {
    "id": "6372d3f8"
   },
   "outputs": [],
   "source": [
    "stemmer = SnowballStemmer('english')\n",
    "tokenizer = RegexpTokenizer(r'[a-zA-Z\\']+')\n",
    "\n",
    "def tokenize(text):\n",
    "    return [stemmer.stem(word) for word in tokenizer.tokenize(text.lower())]"
   ]
  },
  {
   "cell_type": "code",
   "execution_count": 10,
   "id": "4e90c168",
   "metadata": {
    "id": "4e90c168",
    "outputId": "274b1def-233a-476d-f6d6-9a7c6a5348fb"
   },
   "outputs": [
    {
     "name": "stderr",
     "output_type": "stream",
     "text": [
      "C:\\Users\\Sabarish\\anaconda3\\lib\\site-packages\\sklearn\\feature_extraction\\text.py:396: UserWarning: Your stop_words may be inconsistent with your preprocessing. Tokenizing the stop words generated tokens ['abov', 'afterward', 'alon', 'alreadi', 'alway', 'ani', 'anoth', 'anyon', 'anyth', 'anywher', 'becam', 'becaus', 'becom', 'befor', 'besid', 'cri', 'describ', 'dure', 'els', 'elsewher', 'empti', 'everi', 'everyon', 'everyth', 'everywher', 'fifti', 'forti', 'henc', 'hereaft', 'herebi', 'howev', 'hundr', 'inde', 'mani', 'meanwhil', 'moreov', 'nobodi', 'noon', 'noth', 'nowher', 'onc', 'onli', 'otherwis', 'ourselv', 'perhap', 'pleas', 'sever', 'sinc', 'sincer', 'sixti', 'someon', 'someth', 'sometim', 'somewher', 'themselv', 'thenc', 'thereaft', 'therebi', 'therefor', 'togeth', 'twelv', 'twenti', 'veri', 'whatev', 'whenc', 'whenev', 'wherea', 'whereaft', 'wherebi', 'wherev', 'whi', 'yourselv'] not in stop_words.\n",
      "  warnings.warn(\n"
     ]
    },
    {
     "name": "stdout",
     "output_type": "stream",
     "text": [
      "7467\n",
      "[\"''\", \"'s\", 'aa', 'aan', 'aangesloten', 'aarduino', 'aayjust', 'ab', 'abbastanza', 'abbia', 'abbiamo', 'abbondantement', 'aber', 'abfragen', 'abgedockt', 'abh', 'abierta', 'abil', 'abilitarla', 'abl', 'abnorm', 'abolladura', 'abov', 'abrirlo', 'abrufbaren', 'abrupt', 'absent', 'absolut', 'absoluto', 'absprach', 'abziehen', 'abzuspielen', 'ac', 'acabado', 'acceler', 'acceleratorlov', 'acceleromet', 'accendeva', 'accension', 'accept', 'acceptableaspect', 'accesa', 'access', 'accessori', 'accessorio', 'accettabil', 'accid', 'accident', 'accidentalment', 'accommod']\n"
     ]
    }
   ],
   "source": [
    "vectorizer2 = TfidfVectorizer(stop_words = stop_words, tokenizer = tokenize)\n",
    "X2 = vectorizer2.fit_transform(desc.astype('U'))\n",
    "word_features2 = vectorizer2.get_feature_names()\n",
    "print(len(word_features2))\n",
    "print(word_features2[:50]) "
   ]
  },
  {
   "cell_type": "code",
   "execution_count": 11,
   "id": "ef7d3519",
   "metadata": {
    "id": "ef7d3519"
   },
   "outputs": [],
   "source": [
    "vectorizer3 = TfidfVectorizer(stop_words = stop_words, tokenizer = tokenize, max_features = 1000)\n",
    "X3 = vectorizer3.fit_transform(desc.astype('U'))\n",
    "words = vectorizer3.get_feature_names()"
   ]
  },
  {
   "cell_type": "code",
   "execution_count": 12,
   "id": "bab4881e",
   "metadata": {
    "id": "bab4881e",
    "outputId": "df5cdc51-daa6-40ad-f970-18a15821e2db"
   },
   "outputs": [
    {
     "data": {
      "image/png": "[encoded data removed]",
      "text/plain": [
       "<Figure size 640x480 with 1 Axes>"
      ]
     },
     "metadata": {},
     "output_type": "display_data"
    }
   ],
   "source": [
    "from sklearn.cluster import KMeans\n",
    "wcss = []\n",
    "for i in range(1,12):\n",
    "    kmeans = KMeans(n_clusters=i,init='k-means++',max_iter=300,n_init=10,random_state=0)\n",
    "    kmeans.fit(X3)\n",
    "    wcss.append(kmeans.inertia_)\n",
    "plt.plot(range(1,12),wcss)\n",
    "plt.title('The Elbow Method')\n",
    "plt.xlabel('Number of clusters')\n",
    "plt.ylabel('WCSS')\n",
    "plt.savefig('elbow_am.png')\n",
    "plt.show()"
   ]
  },
  {
   "cell_type": "code",
   "execution_count": 25,
   "id": "7db68af0",
   "metadata": {
    "id": "7db68af0",
    "outputId": "c3cb22e7-e94c-4547-fd7c-bc07d0050fa5"
   },
   "outputs": [
    {
     "name": "stdout",
     "output_type": "stream",
     "text": [
      "0 : use, arduino, board, work, great, veri, like, project, time, good, price, need, buy, easi, onli, just, qualiti, product, expect, connect, uno, cabl, control, love, power\n",
      "1 : work, fine, perfect, great, proper, good, nice, qualiti, like, money, stop, receiv, product, use, just, sensor, expect, veri, price, cabl, excel, doe, wast, time, defect\n",
      "2 : la, di, e, il, che, y, prodotto, arduino, es, que, el, non, ottimo, da, und, die, una, si, ist, ein, lo, original, le, scheda, r\n",
      "3 : product, nice, work, veri, great, buy, excel, use, money, price, don't, bad, like, worst, receiv, good, awesom, rang, return, valu, damag, proper, temperatur, packag, wast\n",
      "4 : good, product, veri, qualiti, work, price, expect, packag, item, project, buy, valu, money, use, deliveri, condit, pack, realli, purchas, far, nice, motor, issu, amazon, camera\n"
     ]
    }
   ],
   "source": [
    "kmeans = KMeans(n_clusters = 5, n_init = 20) \n",
    "kmeans.fit(X3)\n",
    "# We look at the 5 clusters generated by k-means.\n",
    "common_words = kmeans.cluster_centers_.argsort()[:,-1:-26:-1]\n",
    "for num, centroid in enumerate(common_words):\n",
    "    print(str(num) + ' : ' + ', '.join(words[word] for word in centroid))\n"
   ]
  },
  {
   "cell_type": "code",
   "execution_count": 27,
   "id": "6192a637",
   "metadata": {
    "id": "6192a637",
    "outputId": "3d3a6f1f-bab2-4aaf-fc50-8eccb4db6374"
   },
   "outputs": [
    {
     "name": "stdout",
     "output_type": "stream",
     "text": [
      "[\n",
      "  \"It’s good that they have the return/replacement policy. I had to return it because one of the channels wasn’t working, i had checked on t6config as well, channel 2 wasn’t responding. The replacement came quick and now everything works. But still I would recommend to buy the one that has screen on it because the software they provide is really old and doesn’t work with newer version of windows. I couldn’t find any working software for my mac as well, so i had fond a win8 system to configure it.\",\n",
      "  \"First time similar item received in damaged condition.  Item was return and timely refund received.This time item was received in good condition, but Data cable, set-up CD &  manual were missing.Kindly arrange to deliver the missing items.Regards\",\n",
      "  \"I buy this but in pakage  binding cable is not there and not back cover of battery for close it as in photo\",\n",
      "  \"It is very genuine product. I have not done the range test yet but it seems like it's good in that part. Only drawback of this transmitter is, it takes lot of power i.e batteries.\",\n",
      "  \"This is very easy to use\",\n",
      "  \"आइटम अच्छा है।\",\n",
      "  \"It's good ! I recommend if you really need an RC. I had some demotivation when I saw the packaging inside the box however. It was a bit crushed and deshaped near the control sticks, but it wasn't damaged so it's fine 👍\",\n",
      "  \"Okay for biggners but give you all features\",\n",
      "  \"This is a nice transmitter and reciever set + you get programming cable and programming software in the CD. Overall it is good if you have low budget. But what I don't like is that, it uses 8 AA size batteries.\",\n",
      "  \"Very bad condition of programming cable not able to program my transmitter\"\n",
      "] \n",
      "\n",
      "\n",
      "[\n",
      "  \"Waste productNever worked\",\n",
      "  \"Transmitter and receiver are  good  ..But programming cable is not working..\",\n",
      "  \"Not working, so replacement required\",\n",
      "  \"Not working properly.\",\n",
      "  \"Working as expected\",\n",
      "  \"It's working good,but time to analise battery life may take longer. So now it is working as mentioned in the product description.\",\n",
      "  \"Cell 2 is not working😪\",\n",
      "  \"All 3 cells are working fine\",\n",
      "  \"Till now it is working fine.\",\n",
      "  \"Good product. Every cell works fine. Thanx a lot. I will recommend all to buy from this seller..\"\n",
      "] \n",
      "\n",
      "\n",
      "[\n",
      "  \"O rapaz adorou, agora é só invenções.\",\n",
      "  \"Es útil para las clases de música con niños.\",\n",
      "  \"Allora, allora.Arrivato integro, completo di tutti i cavetti ad alligatore ed anche quelli più' piccoli bianchi, nella confezione originale e completo di istruzioni e stickers.Spedizione ovviamente sempre al top, arrivato anche un giorno prima rispetto alla data che era scritta sul tracking.Consiglio vivamente l'acquisto !!!!!!\",\n",
      "  \"J'ai acheté ce produit pour l'anniversaire de mon mari et de mon fils de 2 ans et demi.Tous les 2 ont adoré pouvoir jouer des instruments avec une banane, carotte, pâte à modeler ou tout autre objet.Ils débutent mais je suis convaincue que prochainement, leur imagination sera sans limite.Je conseille beaucoup le Makey Makey pour faire une activité adulte / enfant.\",\n",
      "  \"El dispositivo llegó bien empaquetado y protegido, pero:- El hardware estaba defectuoso. Una de las conexiones no funcionaba en absoluto. No soy torpe con los dispositivos, los cables estaban bien (se probaron con otras conexiones y funcionaban).- No se indicaba la versión de Makey-Makey. Una es programable desde el software de arduino y la otra a través de una web de ellos que simplifica la cosa pero no te permite hacer mucho más que lo que hay allí. Yo pregunté acerca de la versión antes de comprarlo y no recibí respuesta. Era la segunda y para mí fue una decepción. Lo devolví a través de Amazon y aún estoy esperando la devolución del dinero, que ya he reclamado dos veces y espero esté efectiva en breve.En cuanto al dispositivo es muy divertido para trabajar con niños o si estás interesado en hacer alguna instalación artística (si tienes la primera versión). Pienso comprar otro que espero esta vez esté en buen estado.\",\n",
      "  \"Compacte et légère.Le câble \\\"ruban\\\", livré avec, peut être remplacé (déclipage - clipage) par un plus long pour avoir plus de souplesse de positionnement par rapport au Rasberry PI.Un boitier  ou support de protection est utile pour pouvoir la \\\"fixer\\\" quelque part.La mise en œuvre est facile. Plusieurs solutions, usages : timelapse avec la commande raspistill; détection de mouvement avec le package motion; ou prise de photos à la demande, via un programme à écrire en python, avec par exemple le package picamera.Les images sont de qualité. Le package picamera  intègre une commande preview qui permet de s'adapter à la luminosité avant la prise de photo.\",\n",
      "  \"Ich habe die Kamera gekauft, um damit eine kostengünstige Überwachungskamera zu realisieren. Die ersten Versuche mit dem Befehl \\\"raspistill\\\" und seinen zahlreichen Optionen lassen kaum Wünsche offen.Die Qualität der Bilder ist Spitze, vergleichbar mit einer Smartphone-Kamera.Beim Positionieren der Kamera stört das breite und auch etwas steife Flachbandkabel ein wenig, ich habe schon feinere Bänder in der Hand gehabt. Etwas enttäuschend ist die Lichtempfindlichkeit bei Dunkelheit, aber für den Preis sollte man darüber nicht meckern. Vielleicht gibt es bald eine Version ohne integrierten IR-Filter, so dass eine Ausleuchtung mit IR-Scheinwerfer bei Dunkelheit diese Schwäche kompensiert.\",\n",
      "  \"Die Kamera funktioniert gut. Ich benutze sie um damit Green Screen Bilder tzu erstellen. Allerdings darf wirklich nicht zu wenig Licht im Raum sein. Dann sind die Bilder kaum noch zu gebrauchen. Der Anschluss an den Raspberry Pi gestaltet sich mit etwas Ruhe recht einfach. Während das Flachbankabel bereits an der Kamera ist, wird das andere Ende einfach an den Csi des Rpi angeschlossen. Minimale frimelarbeit für dicke Finger.\",\n",
      "  \"Zumindest bei ordentlichem Licht macht dieses winzige Module echt gute Bilder.Die Anbindung an den Raspi ist wirklich kinderleicht und man kann sich die Mühe mit irgendwelchen WebCams sparen. Zumindest sehe ich außer dem längeren Kabel und potentiell mehreren Cams keinen Grund.Ob der Raspi neben der direkt angeschlossenen Cam noch weitere USB-Cams überhaupt performant abfragen kann, habe ich jetzt nicht mehr ausprobiert.Klare Empfehlung für Leute mit Spieltrieb und Interesse an schnellen, zuverlässigen Ergebnissen.\",\n",
      "  \"Ormai il raspberry non è più una novità, comunque è sempre piacevole ritrovarsi con un oggetto essenziale, pratico e funzionale, soprattutto ad un prezzo decisamente accettabile ed alla portata di tutti.Il funzionamento di questo modulo è ineccepibile, semplice e veloce da installare e con una resa efficace.Dal momento che va installata sul Raspberry Pi, è consigliato avere un minimo di conoscenze del sistema Linux, o almeno avere qualche amico che in caso di necessità possa aiutare per riuscire a fare quello che vogliamo.Ottimo in tutto.\"\n",
      "] \n",
      "\n",
      "\n",
      "[\n",
      "  \"Product is being shelled at high price if you want you can buy it from robu.in\",\n",
      "  \"Easy to use...nice product\",\n",
      "  \"You can get same product for 2000 rupees in robocraze.com i was almost going to pay 3000 rupees extra but product is very good\",\n",
      "  \"Products goodGood work\",\n",
      "  \"Fantastic product as expected and fast delivery.\",\n",
      "  \"Very nice product. I have received everything transmitter, receiver, jumper wire and programming cable. Go for it\",\n",
      "  \"This is very nice product. Working perfectly. Programming is also simple.\",\n",
      "  \"Nice product\",\n",
      "  \"Nice\",\n",
      "  \"Very nice , but price should be low\"\n",
      "] \n",
      "\n",
      "\n",
      "[\n",
      "  \"Overall the product is good and the quality which is used is good but the cd which come along is blank and i couldn't able to install the drivers of it to calibrate.\",\n",
      "  \"Its good but 8 AA battery needed...\",\n",
      "  \"Good item..\",\n",
      "  \"Good product but the channel number are not specified.\",\n",
      "  \"Good quality product I purchase this product rs3241\",\n",
      "  \"Good product I like it\",\n",
      "  \"It's a good product....\",\n",
      "  \"It is very nice...mine came without a manual and a CD. But still is very good.\",\n",
      "  \"We recieved good product\",\n",
      "  \"Very good and multitasking product\"\n",
      "] \n",
      "\n",
      "\n"
     ]
    },
    {
     "data": {
      "text/plain": [
       "0    1424\n",
       "2     420\n",
       "4     248\n",
       "3     240\n",
       "1     215\n",
       "Name: prediction, dtype: int64"
      ]
     },
     "execution_count": 27,
     "metadata": {},
     "output_type": "execute_result"
    }
   ],
   "source": [
    "# print(\"Prediction\")\n",
    "\n",
    "Y = vectorizer3.transform(data[\"Comments\"].values.astype('U'))\n",
    "prediction = kmeans.predict(Y)\n",
    "# print(prediction)\n",
    "\n",
    "c1,c2,c3,c4,c5=[],[],[],[],[]\n",
    "\n",
    "for (i,j) in zip(prediction,data[\"Comments\"].values.astype('U')):\n",
    "    if i == 0:\n",
    "        c1.append(j)\n",
    "    elif i == 1:\n",
    "        c2.append(j)\n",
    "    elif i == 2:\n",
    "        c3.append(j)\n",
    "    elif i == 3:\n",
    "        c4.append(j)\n",
    "    elif i == 4:\n",
    "        c5.append(j)\n",
    "    \n",
    "\n",
    "print(json.dumps(c1[:10], indent = 2, ensure_ascii = False),\"\\n\\n\")\n",
    "print(json.dumps(c2[:10], indent = 2, ensure_ascii = False),\"\\n\\n\")\n",
    "print(json.dumps(c3[:10], indent = 2, ensure_ascii = False),\"\\n\\n\")\n",
    "print(json.dumps(c4[:10], indent = 2, ensure_ascii = False),\"\\n\\n\")\n",
    "print(json.dumps(c5[:10], indent = 2, ensure_ascii = False),\"\\n\\n\")\n",
    "ans = pd.DataFrame()\n",
    "ans[\"prediction\"] = prediction\n",
    "ans[\"prediction\"].value_counts()"
   ]
  },
  {
   "cell_type": "code",
   "execution_count": 28,
   "id": "5117baa6",
   "metadata": {
    "id": "5117baa6",
    "outputId": "35e9b9ce-3378-4b42-ae67-f496a45a5049"
   },
   "outputs": [
    {
     "name": "stdout",
     "output_type": "stream",
     "text": [
      "[535, 33, 10, 45, 25]\n"
     ]
    }
   ],
   "source": [
    "que = [\"what\", \"why\", \"when\", \"where\", \"name\", \"how\", \"does\", \"which\", \"would\", \"could\", \"should\", \"has\", \"have\", \"whom\", \"whose\", \"question\"]\n",
    "\n",
    "count = []\n",
    "count1 = 0\n",
    "for i in c1:\n",
    "    z=i.lower()\n",
    "    if any(q in z for q in que):\n",
    "        count1+=1\n",
    "count.append(count1)\n",
    "\n",
    "count1=0\n",
    "for i in c2:\n",
    "    z=i.lower()\n",
    "    if any(q in z for q in que):\n",
    "        count1+=1\n",
    "count.append(count1)\n",
    "\n",
    "count1=0\n",
    "for i in c3:\n",
    "    z=i.lower()\n",
    "    if any(q in z for q in que):\n",
    "        count1+=1\n",
    "count.append(count1)\n",
    "\n",
    "count1=0\n",
    "for i in c4:\n",
    "    z=i.lower()\n",
    "    if any(q in z for q in que):\n",
    "        count1+=1\n",
    "count.append(count1)\n",
    "\n",
    "count1=0\n",
    "for i in c5:\n",
    "    z=i.lower()\n",
    "    if any(q in z for q in que):\n",
    "        count1+=1\n",
    "count.append(count1)\n",
    "\n",
    "\n",
    "print(count)\n",
    "# print(json.dumps(questions, indent = 2, ensure_ascii = False))"
   ]
  },
  {
   "cell_type": "code",
   "execution_count": 29,
   "id": "e6c033a5",
   "metadata": {
    "id": "e6c033a5",
    "outputId": "997ea8c4-20cf-4e6d-97c8-b06aca21e6b2"
   },
   "outputs": [
    {
     "name": "stdout",
     "output_type": "stream",
     "text": [
      "0 : product, great, like, veri, work, price, use, buy, money, expect, excel, qualiti, ok, good, onli, time, love, receiv, camera, box, batteri, best, pi, just, got\n",
      "1 : nice, product, veri, work, good, use, packag, motor, small, super, realli, low, price, fine, board, issu, rang, degre, pack, children, perfect, just, easi, valu, manual\n",
      "2 : arduino, use, board, project, uno, easi, work, great, genuin, program, veri, need, code, origin, learn, product, makey, like, usb, thing, time, control, cabl, mani, buy\n",
      "3 : good, product, veri, qualiti, work, price, packag, expect, item, valu, project, buy, money, use, deliveri, condit, issu, pack, realli, perfect, purchas, far, motor, camera, deal\n",
      "4 : di, la, e, il, che, y, es, prodotto, arduino, el, que, non, ottimo, und, die, da, una, si, ist, original, lo, ein, scheda, der, ich\n",
      "5 : work, fine, product, great, proper, perfect, good, use, qualiti, expect, like, don't, stop, money, receiv, veri, buy, doe, wast, just, charm, defect, cabl, time, sensor\n"
     ]
    }
   ],
   "source": [
    "kmeans = KMeans(n_clusters = 6, n_init = 20)\n",
    "kmeans.fit(X3)\n",
    "# We look at the 6 clusters generated by k-means.\n",
    "common_words = kmeans.cluster_centers_.argsort()[:,-1:-26:-1]\n",
    "for num, centroid in enumerate(common_words):\n",
    "    print(str(num) + ' : ' + ', '.join(words[word] for word in centroid))"
   ]
  },
  {
   "cell_type": "code",
   "execution_count": 30,
   "id": "2067f05c",
   "metadata": {
    "id": "2067f05c",
    "outputId": "8a1cd45d-a3cd-4e1d-a159-b3af73b8f658"
   },
   "outputs": [
    {
     "name": "stdout",
     "output_type": "stream",
     "text": [
      "[\n",
      "  \"Product is being shelled at high price if you want you can buy it from robu.in\",\n",
      "  \"First time similar item received in damaged condition.  Item was return and timely refund received.This time item was received in good condition, but Data cable, set-up CD &  manual were missing.Kindly arrange to deliver the missing items.Regards\",\n",
      "  \"I buy this but in pakage  binding cable is not there and not back cover of battery for close it as in photo\",\n",
      "  \"It is very genuine product. I have not done the range test yet but it seems like it's good in that part. Only drawback of this transmitter is, it takes lot of power i.e batteries.\",\n",
      "  \"आइटम अच्छा है।\",\n",
      "  \"It's good ! I recommend if you really need an RC. I had some demotivation when I saw the packaging inside the box however. It was a bit crushed and deshaped near the control sticks, but it wasn't damaged so it's fine 👍\",\n",
      "  \"Okay for biggners but give you all features\",\n",
      "  \"Fantastic product as expected and fast delivery.\",\n",
      "  \"Very nice product. I have received everything transmitter, receiver, jumper wire and programming cable. Go for it\",\n",
      "  \"Very bad condition of programming cable not able to program my transmitter\"\n",
      "] \n",
      "\n",
      "\n",
      "[\n",
      "  \"Easy to use...nice product\",\n",
      "  \"It is very nice...mine came without a manual and a CD. But still is very good.\",\n",
      "  \"This is very nice product. Working perfectly. Programming is also simple.\",\n",
      "  \"Nice product\",\n",
      "  \"Nice\",\n",
      "  \"Very nice , but price should be low\",\n",
      "  \"Good product nice\",\n",
      "  \"Nice Product\",\n",
      "  \"Nice product.. AndGood range upto 1km\",\n",
      "  \"Its nice product for 1000kv motor\"\n",
      "] \n",
      "\n",
      "\n",
      "[\n",
      "  \"This is very easy to use\",\n",
      "  \"This is a nice transmitter and reciever set + you get programming cable and programming software in the CD. Overall it is good if you have low budget. But what I don't like is that, it uses 8 AA size batteries.\",\n",
      "  \"packing is extremely good and its working correctly. easy to use and control\",\n",
      "  \"I used it only for once and while recharging it got bursted.\",\n",
      "  \"The product quality and working and all fine. But this will not help in the log run..If you can spend some more money to get a advanced board which will have barometer and GPS capabilities..This board will help us to fly but it is unstable as is lack some needed sensors so this will not lock in one place.. Drone is big so it's dangerous to have it unstable.Got cut by the blades many times. Drone Also fell many times\",\n",
      "  \"I am totally disappointed, with the product received. It is definitely an opened/used product. The seal wasn't intact as you can see in pics. The circuit behind the board was also bent. And it did not come in original makey makey box as shown proudly in the advertised pictures. Well I have used this board before and there is no saying that it's a wonderful kitforkids. But I think sending a used kit like this is just cheap. I have sent for a replacement and I am hoping I will not be cheated this time.\",\n",
      "  \"I had several of the Makey Makey kits for the students in my classroom a few years back. At that time, the students were able to access free programs that would work with Makey Makey. However, when I recently bought it for my grandson, I was unable to locate some of the free programs I had used with my students. There were many to purchase though.It is easy to use, once you read through all the directions, and there is also a few videos on the product website, and on YouTube. I highly recommend you watch those as well before using the product.My grandson, who just turned right, did have a lot of fun with it, and was running all over my house to find things he could use to complete the circuit. We used bananas, cherries, coins, clothes pins, and several other items. It is still a good product, and really brings out the curiosity in children. It is also a good product for the requirements of STEM.\",\n",
      "  \"Made for a very interesting and unique gift that requires a little bit of work, creativity, and imagination that I think is needed these days.  My niece wanted this and I had no idea what it was so I researched it a little and was surprised that she knew what this was and wanted it.  While there are a lot of ways to play with this at its base it is fairly simple and easy to learn and use.  I appreciate that it combines gaming and electronics with a little bit of learning, creativity, imagination and inventiveness.I gave it only 4 stars because I don't think this is for everyone.  If you're planning to buy this for a present, you should really see if this is the kind of thing that person/child wants.  If you think someone might like it as a gift they might also need someone to show them the kind of fun they can enjoy with this. It is an interesting concept and the possibilities are near limitless but I think anyone that hasn't researched the Makey Makey at all and are considering it for a gift, to really read into what it is and what it can be.The price is a little steep in my opinion at about $50.  I think $35-$40 would have been a sweet spot but it is well made and designed and I have no issue spending a little more to support innovative ideas.  I can happily recommend this.\",\n",
      "  \"Gave this to my son, he loved how easy it is to use! His only problem with it is that he can't think of anything else to do with it. The Makey Makey reminds me of an Arduino.\",\n",
      "  \"I currently teach Integrated Technology K-5 and purchased this for an enrichment activity in my Tech Club. The first time I used it I had to launch several projects at the same time, so the students who signed up to use these were simply handed the unopened box and requested to read the directions and look around at the various parts until I could get back to their group to get them started. Without any instruction other than that, but the time I returned to them they had independently hooked up various objects to it and was using it like a piano. The students were in 4th and 5th grade. Very easy to use, and with guidance this could be used in a 1st grade setting. There are some projects already outlined in the instructions/available on their website making it very simple to get started. Of course, it is also a device that is very open ended and may be used in more creative ways by students as well. Highly recommend!\"\n",
      "] \n",
      "\n",
      "\n",
      "[\n",
      "  \"Overall the product is good and the quality which is used is good but the cd which come along is blank and i couldn't able to install the drivers of it to calibrate.\",\n",
      "  \"You can get same product for 2000 rupees in robocraze.com i was almost going to pay 3000 rupees extra but product is very good\",\n",
      "  \"Its good but 8 AA battery needed...\",\n",
      "  \"Good item..\",\n",
      "  \"Good product but the channel number are not specified.\",\n",
      "  \"Good quality product I purchase this product rs3241\",\n",
      "  \"Good product I like it\",\n",
      "  \"It's a good product....\",\n",
      "  \"This is so good product I like this product\",\n",
      "  \"Product is not warking\"\n",
      "] \n",
      "\n",
      "\n",
      "[\n",
      "  \"O rapaz adorou, agora é só invenções.\",\n",
      "  \"Es útil para las clases de música con niños.\",\n",
      "  \"Allora, allora.Arrivato integro, completo di tutti i cavetti ad alligatore ed anche quelli più' piccoli bianchi, nella confezione originale e completo di istruzioni e stickers.Spedizione ovviamente sempre al top, arrivato anche un giorno prima rispetto alla data che era scritta sul tracking.Consiglio vivamente l'acquisto !!!!!!\",\n",
      "  \"El dispositivo llegó bien empaquetado y protegido, pero:- El hardware estaba defectuoso. Una de las conexiones no funcionaba en absoluto. No soy torpe con los dispositivos, los cables estaban bien (se probaron con otras conexiones y funcionaban).- No se indicaba la versión de Makey-Makey. Una es programable desde el software de arduino y la otra a través de una web de ellos que simplifica la cosa pero no te permite hacer mucho más que lo que hay allí. Yo pregunté acerca de la versión antes de comprarlo y no recibí respuesta. Era la segunda y para mí fue una decepción. Lo devolví a través de Amazon y aún estoy esperando la devolución del dinero, que ya he reclamado dos veces y espero esté efectiva en breve.En cuanto al dispositivo es muy divertido para trabajar con niños o si estás interesado en hacer alguna instalación artística (si tienes la primera versión). Pienso comprar otro que espero esta vez esté en buen estado.\",\n",
      "  \"Compacte et légère.Le câble \\\"ruban\\\", livré avec, peut être remplacé (déclipage - clipage) par un plus long pour avoir plus de souplesse de positionnement par rapport au Rasberry PI.Un boitier  ou support de protection est utile pour pouvoir la \\\"fixer\\\" quelque part.La mise en œuvre est facile. Plusieurs solutions, usages : timelapse avec la commande raspistill; détection de mouvement avec le package motion; ou prise de photos à la demande, via un programme à écrire en python, avec par exemple le package picamera.Les images sont de qualité. Le package picamera  intègre une commande preview qui permet de s'adapter à la luminosité avant la prise de photo.\",\n",
      "  \"Ich habe die Kamera gekauft, um damit eine kostengünstige Überwachungskamera zu realisieren. Die ersten Versuche mit dem Befehl \\\"raspistill\\\" und seinen zahlreichen Optionen lassen kaum Wünsche offen.Die Qualität der Bilder ist Spitze, vergleichbar mit einer Smartphone-Kamera.Beim Positionieren der Kamera stört das breite und auch etwas steife Flachbandkabel ein wenig, ich habe schon feinere Bänder in der Hand gehabt. Etwas enttäuschend ist die Lichtempfindlichkeit bei Dunkelheit, aber für den Preis sollte man darüber nicht meckern. Vielleicht gibt es bald eine Version ohne integrierten IR-Filter, so dass eine Ausleuchtung mit IR-Scheinwerfer bei Dunkelheit diese Schwäche kompensiert.\",\n",
      "  \"Die Kamera funktioniert gut. Ich benutze sie um damit Green Screen Bilder tzu erstellen. Allerdings darf wirklich nicht zu wenig Licht im Raum sein. Dann sind die Bilder kaum noch zu gebrauchen. Der Anschluss an den Raspberry Pi gestaltet sich mit etwas Ruhe recht einfach. Während das Flachbankabel bereits an der Kamera ist, wird das andere Ende einfach an den Csi des Rpi angeschlossen. Minimale frimelarbeit für dicke Finger.\",\n",
      "  \"Zumindest bei ordentlichem Licht macht dieses winzige Module echt gute Bilder.Die Anbindung an den Raspi ist wirklich kinderleicht und man kann sich die Mühe mit irgendwelchen WebCams sparen. Zumindest sehe ich außer dem längeren Kabel und potentiell mehreren Cams keinen Grund.Ob der Raspi neben der direkt angeschlossenen Cam noch weitere USB-Cams überhaupt performant abfragen kann, habe ich jetzt nicht mehr ausprobiert.Klare Empfehlung für Leute mit Spieltrieb und Interesse an schnellen, zuverlässigen Ergebnissen.\",\n",
      "  \"Ormai il raspberry non è più una novità, comunque è sempre piacevole ritrovarsi con un oggetto essenziale, pratico e funzionale, soprattutto ad un prezzo decisamente accettabile ed alla portata di tutti.Il funzionamento di questo modulo è ineccepibile, semplice e veloce da installare e con una resa efficace.Dal momento che va installata sul Raspberry Pi, è consigliato avere un minimo di conoscenze del sistema Linux, o almeno avere qualche amico che in caso di necessità possa aiutare per riuscire a fare quello che vogliamo.Ottimo in tutto.\",\n",
      "  \"Qualité de l'image identique à celle attendue.Maintenant, faut se relever les manches et chercher la doc pour streamer la vidéo sur le web !\"\n",
      "] \n",
      "\n",
      "\n",
      "[\n",
      "  \"It’s good that they have the return/replacement policy. I had to return it because one of the channels wasn’t working, i had checked on t6config as well, channel 2 wasn’t responding. The replacement came quick and now everything works. But still I would recommend to buy the one that has screen on it because the software they provide is really old and doesn’t work with newer version of windows. I couldn’t find any working software for my mac as well, so i had fond a win8 system to configure it.\",\n",
      "  \"Waste productNever worked\",\n",
      "  \"Products goodGood work\",\n",
      "  \"Transmitter and receiver are  good  ..But programming cable is not working..\",\n",
      "  \"I buy this products ang get it on time but it seems to bee used product and connecting cable is also not working\",\n",
      "  \"Receiver not working, wast of money. Don't buy this product\",\n",
      "  \"Good product.the circuit board has a voltage of 6v and the controller has maximum 3v.working as expected,I have used it in my toy car.but the problem is two motors are not working at the same time.\",\n",
      "  \"Not working, so replacement required\",\n",
      "  \"Not working properly.\",\n",
      "  \"Working as expected\"\n",
      "] \n",
      "\n",
      "\n"
     ]
    },
    {
     "data": {
      "text/plain": [
       "0    1167\n",
       "2     406\n",
       "4     371\n",
       "5     263\n",
       "3     256\n",
       "1      84\n",
       "Name: prediction, dtype: int64"
      ]
     },
     "execution_count": 30,
     "metadata": {},
     "output_type": "execute_result"
    }
   ],
   "source": [
    "# print(\"Prediction\")\n",
    "\n",
    "Y = vectorizer3.transform(data[\"Comments\"].values.astype('U'))\n",
    "prediction = kmeans.predict(Y)\n",
    "# print(prediction)\n",
    "\n",
    "c1,c2,c3,c4,c5,c6=[],[],[],[],[],[]\n",
    "\n",
    "for (i,j) in zip(prediction,data[\"Comments\"].values.astype('U')):\n",
    "    if i == 0:\n",
    "        c1.append(j)\n",
    "    elif i == 1:\n",
    "        c2.append(j)\n",
    "    elif i == 2:\n",
    "        c3.append(j)\n",
    "    elif i == 3:\n",
    "        c4.append(j)\n",
    "    elif i == 4:\n",
    "        c5.append(j)\n",
    "    elif i == 5:\n",
    "        c6.append(j)\n",
    "\n",
    "    \n",
    "\n",
    "print(json.dumps(c1[:10], indent = 2, ensure_ascii = False),\"\\n\\n\")\n",
    "print(json.dumps(c2[:10], indent = 2, ensure_ascii = False),\"\\n\\n\")\n",
    "print(json.dumps(c3[:10], indent = 2, ensure_ascii = False),\"\\n\\n\")\n",
    "print(json.dumps(c4[:10], indent = 2, ensure_ascii = False),\"\\n\\n\")\n",
    "print(json.dumps(c5[:10], indent = 2, ensure_ascii = False),\"\\n\\n\")\n",
    "print(json.dumps(c6[:10], indent = 2, ensure_ascii = False),\"\\n\\n\")\n",
    "ans = pd.DataFrame()\n",
    "ans[\"prediction\"] = prediction\n",
    "ans[\"prediction\"].value_counts()"
   ]
  },
  {
   "cell_type": "code",
   "execution_count": 31,
   "id": "37e9afcc",
   "metadata": {
    "id": "37e9afcc",
    "outputId": "9afd2913-2ee5-400c-dfd0-c98954275c29"
   },
   "outputs": [
    {
     "name": "stdout",
     "output_type": "stream",
     "text": [
      "[340, 6, 213, 27, 9, 53]\n"
     ]
    }
   ],
   "source": [
    "que = [\"what\", \"why\", \"when\", \"where\", \"name\", \"how\", \"does\", \"which\", \"would\", \"could\", \"should\", \"has\", \"have\", \"whom\", \"whose\", \"question\"]\n",
    "\n",
    "# This is amazing. Thank you for showing all these sensor capabilities. Really inspires ideas for me\n",
    "count = []\n",
    "count1 = 0\n",
    "for i in c1:\n",
    "    z=i.lower()\n",
    "    if any(q in z for q in que):\n",
    "        count1+=1\n",
    "count.append(count1)\n",
    "\n",
    "count1=0\n",
    "for i in c2:\n",
    "    z=i.lower()\n",
    "    if any(q in z for q in que):\n",
    "        count1+=1\n",
    "count.append(count1)\n",
    "\n",
    "count1=0\n",
    "for i in c3:\n",
    "    z=i.lower()\n",
    "    if any(q in z for q in que):\n",
    "        count1+=1\n",
    "count.append(count1)\n",
    "\n",
    "count1=0\n",
    "for i in c4:\n",
    "    z=i.lower()\n",
    "    if any(q in z for q in que):\n",
    "        count1+=1\n",
    "count.append(count1)\n",
    "\n",
    "count1=0\n",
    "for i in c5:\n",
    "    z=i.lower()\n",
    "    if any(q in z for q in que):\n",
    "        count1+=1\n",
    "count.append(count1)\n",
    "\n",
    "count1=0\n",
    "for i in c6:\n",
    "    z=i.lower()\n",
    "    if any(q in z for q in que):\n",
    "        count1+=1\n",
    "count.append(count1)\n",
    "\n",
    "print(count)"
   ]
  },
  {
   "cell_type": "code",
   "execution_count": 32,
   "id": "61ba5aff",
   "metadata": {
    "id": "61ba5aff"
   },
   "outputs": [
    {
     "name": "stdout",
     "output_type": "stream",
     "text": [
      "0 : y, el, que, es, la, para, muy, n, producto, lo, en, excelent, calidad, origin, buena, m, bien, una, precio, o, tiempo, sin, s, las, pero\n",
      "1 : product, work, buy, excel, don't, money, veri, worst, like, price, bad, use, return, damag, receiv, qualiti, wast, seller, temperatur, onli, proper, replac, good, awesom, love\n",
      "2 : work, fine, perfect, proper, good, qualiti, like, stop, use, receiv, just, product, sensor, doe, veri, cabl, time, expect, price, money, devic, buy, don't, charm, excel\n",
      "3 : nice, product, veri, work, good, use, packag, motor, small, super, realli, low, price, fine, board, issu, rang, pack, children, perfect, easi, manual, run, speed, simpl\n",
      "4 : work, use, like, veri, expect, good, price, time, money, batteri, buy, cabl, camera, just, onli, box, qualiti, ok, love, connect, pi, got, bought, receiv, return\n",
      "5 : great, work, product, use, price, valu, camera, pi, arriv, learn, project, easi, fun, servic, board, qualiti, good, littl, raspberri, nice, arduino, thank, excel, quick, money\n",
      "6 : bien, pour, et, la, le, avec, je, cart, pas, les, est, fonctionn, tr, s, par, une, plus, conform, qualit, parfait, produit, qui, que, d, descript\n",
      "7 : arduino, board, use, uno, genuin, project, easi, work, origin, veri, need, code, program, like, time, product, real, clone, power, issu, buy, mani, great, nano, usb\n",
      "8 : good, product, veri, qualiti, work, expect, price, item, packag, project, buy, valu, deliveri, use, money, condit, pack, issu, realli, far, motor, camera, deal, iot, fast\n",
      "9 : und, die, ist, ein, der, ich, mit, das, f, r, man, es, zu, nicht, den, sehr, habe, gut, bei, arduino, kann, auch, schnell, war, sind\n",
      "10 : di, e, che, il, prodotto, la, non, ottimo, arduino, da, scheda, original, si, ho, una, molto, anch, ma, come, questo, pi, funziona, arrivato, della, ed\n"
     ]
    }
   ],
   "source": [
    "kmeans = KMeans(n_clusters = 11, n_init = 20) \n",
    "kmeans.fit(X3)\n",
    "# We look at the 11 clusters generated by k-means.\n",
    "common_words = kmeans.cluster_centers_.argsort()[:,-1:-26:-1]\n",
    "for num, centroid in enumerate(common_words):\n",
    "    print(str(num) + ' : ' + ', '.join(words[word] for word in centroid))"
   ]
  },
  {
   "cell_type": "code",
   "execution_count": 34,
   "id": "76d07bb8",
   "metadata": {},
   "outputs": [
    {
     "name": "stdout",
     "output_type": "stream",
     "text": [
      "[\n",
      "  \"O rapaz adorou, agora é só invenções.\",\n",
      "  \"Es útil para las clases de música con niños.\",\n",
      "  \"El dispositivo llegó bien empaquetado y protegido, pero:- El hardware estaba defectuoso. Una de las conexiones no funcionaba en absoluto. No soy torpe con los dispositivos, los cables estaban bien (se probaron con otras conexiones y funcionaban).- No se indicaba la versión de Makey-Makey. Una es programable desde el software de arduino y la otra a través de una web de ellos que simplifica la cosa pero no te permite hacer mucho más que lo que hay allí. Yo pregunté acerca de la versión antes de comprarlo y no recibí respuesta. Era la segunda y para mí fue una decepción. Lo devolví a través de Amazon y aún estoy esperando la devolución del dinero, que ya he reclamado dos veces y espero esté efectiva en breve.En cuanto al dispositivo es muy divertido para trabajar con niños o si estás interesado en hacer alguna instalación artística (si tienes la primera versión). Pienso comprar otro que espero esta vez esté en buen estado.\",\n",
      "  \"El producto viene bien embalado y protegido por una bolsa antiestática.El precio es correcto y la cámara funciona sin problemas.Es recomendable comprar una carcasa para la cámara o fabricar un soporte casero para mantenerla en la posición deseada, sin ello no tiene ningún tipo de sujeción y es impracticable utilizarla de forma estable.No todas las carcasas están preparadas para su uso!\",\n",
      "  \"Cámara de 5 Mpx. Conectar y listo. La cámara funciona muy bien con buena iluminación. Muy facil de instalar y de usar.\",\n",
      "  \"La camara tiene una definicion fantastica, tiene detector de movimiento y led. Le faltaría un microfono en mi opinion para ser completa.\",\n",
      "  \"La camara es buena, y da una calidad excelente, hay sin embargo varios metodos para hacer el streaming y cada uno de ellos tiene sus limitaciones, requiere saber usarla y calibracion para adaptarse al proyecto que queramos hacer\",\n",
      "  \"Ciertamente, es un producto que se ve que está hecho con mimo. Tiene los detalles de tener serigrafiados los pines a un tamaño que pueden leerse sin mucha dificultad. Y la capacidad wifi bien pero que muy bien. Un aparatito excelente para iniciarte en este mundillo de la domótica.\",\n",
      "  \"Es estable, es lo que dicen las reseñas que es...\",\n",
      "  \"En comparación con el Arduino MKR1000, el MKR1010 no solamente permite comunicación WIFI, sino también en BLE. Aunque no al mismo tiempo.\"\n",
      "] \n",
      "\n",
      "\n",
      "[\n",
      "  \"Product is being shelled at high price if you want you can buy it from robu.in\",\n",
      "  \"You can get same product for 2000 rupees in robocraze.com i was almost going to pay 3000 rupees extra but product is very good\",\n",
      "  \"Products goodGood work\",\n",
      "  \"Fantastic product as expected and fast delivery.\",\n",
      "  \"Good quality product I purchase this product rs3241\",\n",
      "  \"Half product delivered\",\n",
      "  \"I buy this products ang get it on time but it seems to bee used product and connecting cable is also not working\",\n",
      "  \"Waste off money dis product range is not a great chiplesh product\",\n",
      "  \"Not much better for this price 😒😒😒😒You can buy the same products at low price...Really.. promise..👮‍♀️👮‍♀️\",\n",
      "  \"This is so good product I like this product\"\n",
      "] \n",
      "\n",
      "\n",
      "[\n",
      "  \"Waste productNever worked\",\n",
      "  \"Transmitter and receiver are  good  ..But programming cable is not working..\",\n",
      "  \"Not working, so replacement required\",\n",
      "  \"Not working properly.\",\n",
      "  \"Working as expected\",\n",
      "  \"It's working good,but time to analise battery life may take longer. So now it is working as mentioned in the product description.\",\n",
      "  \"Cell 2 is not working😪\",\n",
      "  \"All 3 cells are working fine\",\n",
      "  \"Till now it is working fine.\",\n",
      "  \"Good product. Every cell works fine. Thanx a lot. I will recommend all to buy from this seller..\"\n",
      "] \n",
      "\n",
      "\n",
      "[\n",
      "  \"Easy to use...nice product\",\n",
      "  \"It is very nice...mine came without a manual and a CD. But still is very good.\",\n",
      "  \"This is very nice product. Working perfectly. Programming is also simple.\",\n",
      "  \"Nice product\",\n",
      "  \"Nice\",\n",
      "  \"Very nice , but price should be low\",\n",
      "  \"Good product nice\",\n",
      "  \"Nice Product\",\n",
      "  \"Nice product.. AndGood range upto 1km\",\n",
      "  \"Its nice product for 1000kv motor\"\n",
      "] \n",
      "\n",
      "\n",
      "[\n",
      "  \"It’s good that they have the return/replacement policy. I had to return it because one of the channels wasn’t working, i had checked on t6config as well, channel 2 wasn’t responding. The replacement came quick and now everything works. But still I would recommend to buy the one that has screen on it because the software they provide is really old and doesn’t work with newer version of windows. I couldn’t find any working software for my mac as well, so i had fond a win8 system to configure it.\",\n",
      "  \"First time similar item received in damaged condition.  Item was return and timely refund received.This time item was received in good condition, but Data cable, set-up CD &  manual were missing.Kindly arrange to deliver the missing items.Regards\",\n",
      "  \"I buy this but in pakage  binding cable is not there and not back cover of battery for close it as in photo\",\n",
      "  \"It is very genuine product. I have not done the range test yet but it seems like it's good in that part. Only drawback of this transmitter is, it takes lot of power i.e batteries.\",\n",
      "  \"आइटम अच्छा है।\",\n",
      "  \"It's good ! I recommend if you really need an RC. I had some demotivation when I saw the packaging inside the box however. It was a bit crushed and deshaped near the control sticks, but it wasn't damaged so it's fine 👍\",\n",
      "  \"Okay for biggners but give you all features\",\n",
      "  \"This is a nice transmitter and reciever set + you get programming cable and programming software in the CD. Overall it is good if you have low budget. But what I don't like is that, it uses 8 AA size batteries.\",\n",
      "  \"Very nice product. I have received everything transmitter, receiver, jumper wire and programming cable. Go for it\",\n",
      "  \"Very bad condition of programming cable not able to program my transmitter\"\n",
      "] \n",
      "\n",
      "\n",
      "[\n",
      "  \"Great\",\n",
      "  \"Excellant product...working great...It would have been better if the antenna is little thinner and could have been included batter ratings for Transmitter and Receiver\",\n",
      "  \"delivered in great shape all cells were petfectly balanced\",\n",
      "  \"Awesome  product !!!Works well even in 5v supply. Great torque.\",\n",
      "  \"A great product with good packaging.\",\n",
      "  \"My daughter was so excited for this.  She has had alot of fun creating keyboards out of household items.  This is a great learning tool.\",\n",
      "  \"Super cool, my kids love it.  Great for boys creativity with technology.\",\n",
      "  \"The Makey Makey is great!  I was able to build the project I wanted to make with ease.  It also got me more interested in Arduino's, and I've picked up a bunch of them now!  Great tool to start learning more about electronics.\",\n",
      "  \"Joylabz is an excellent company.  Great customer service and great communication.  The Makey Makey product is stellar, and now with version 1.2, remapping the unit is quick & easy.  Very happy with my purchase.\",\n",
      "  \"Silly and hilarious.  But also great to use with Scratch - it delighted my class.\"\n",
      "] \n",
      "\n",
      "\n",
      "[\n",
      "  \"J'ai acheté ce produit pour l'anniversaire de mon mari et de mon fils de 2 ans et demi.Tous les 2 ont adoré pouvoir jouer des instruments avec une banane, carotte, pâte à modeler ou tout autre objet.Ils débutent mais je suis convaincue que prochainement, leur imagination sera sans limite.Je conseille beaucoup le Makey Makey pour faire une activité adulte / enfant.\",\n",
      "  \"Parfait pour initier de manière ludique les enfants et les parents à l'informatique et à l’électricité.Quelques recherches sur internet et on trouve plein d'appli compatible pour passer des heures à s'amuser.En l'associant à un rapsburry les possibilités sont infinies.\",\n",
      "  \"Compacte et légère.Le câble \\\"ruban\\\", livré avec, peut être remplacé (déclipage - clipage) par un plus long pour avoir plus de souplesse de positionnement par rapport au Rasberry PI.Un boitier  ou support de protection est utile pour pouvoir la \\\"fixer\\\" quelque part.La mise en œuvre est facile. Plusieurs solutions, usages : timelapse avec la commande raspistill; détection de mouvement avec le package motion; ou prise de photos à la demande, via un programme à écrire en python, avec par exemple le package picamera.Les images sont de qualité. Le package picamera  intègre une commande preview qui permet de s'adapter à la luminosité avant la prise de photo.\",\n",
      "  \"Très bon produits la qualité est vraiment super appréciable.je l'utilise en caméra de surveillance avec motionpie. Détection de mouvements avec cliché. J'en suis super content\",\n",
      "  \"Qualité de l'image identique à celle attendue.Maintenant, faut se relever les manches et chercher la doc pour streamer la vidéo sur le web !\",\n",
      "  \"Fonctionne correctement, il y a pas mal de grain si peu d'éclairage (pénombre) !Un peu compliqué a utiliser avec motion.\",\n",
      "  \"Attention na pas fonctionné avec mon b+, malgré des recherches approfondi, impossible de la faire détecté. Par contre marche parfaitement bien avec l'ancienne génération. Image de qualité.\",\n",
      "  \"La qualité de la caméra est acceptable.Le seul hic : si je touche la partie noir de la caméra, elle s'éteint et je suis obligé de redémarrer le raspberry.\",\n",
      "  \"Complètement dépassé par rapport aux ESP12 par exempl. Et très cher. Je l'ai découvert trop tard.\",\n",
      "  \"Produit de très haute qualité aucun problème et livraison rapide.Je ne regrette pas du tout cet achat.\"\n",
      "] \n",
      "\n",
      "\n",
      "[] \n",
      "\n",
      "\n",
      "[] \n",
      "\n",
      "\n",
      "[] \n",
      "\n",
      "\n",
      "[] \n",
      "\n",
      "\n"
     ]
    },
    {
     "data": {
      "text/plain": [
       "4     1003\n",
       "7      352\n",
       "8      237\n",
       "10     187\n",
       "2      186\n",
       "1      177\n",
       "0       92\n",
       "5       89\n",
       "9       85\n",
       "3       82\n",
       "6       57\n",
       "Name: prediction, dtype: int64"
      ]
     },
     "execution_count": 34,
     "metadata": {},
     "output_type": "execute_result"
    }
   ],
   "source": [
    "# print(\"Prediction\")\n",
    "\n",
    "Y = vectorizer3.transform(data[\"Comments\"].values.astype('U'))\n",
    "prediction = kmeans.predict(Y)\n",
    "# print(prediction)\n",
    "\n",
    "c1,c2,c3,c4,c5,c6,c7,c8,c9,c10,c11=[],[],[],[],[],[],[],[],[],[],[]\n",
    "\n",
    "for (i,j) in zip(prediction,data[\"Comments\"].values.astype('U')):\n",
    "    if i == 0:\n",
    "        c1.append(j)\n",
    "    elif i == 1:\n",
    "        c2.append(j)\n",
    "    elif i == 2:\n",
    "        c3.append(j)\n",
    "    elif i == 3:\n",
    "        c4.append(j)\n",
    "    elif i == 4:\n",
    "        c5.append(j)\n",
    "    elif i == 5:\n",
    "        c6.append(j)\n",
    "    elif i == 6:\n",
    "        c7.append(j)\n",
    "    elif i == 3:\n",
    "        c8.append(j)\n",
    "    elif i == 4:\n",
    "        c9.append(j)\n",
    "    elif i == 5:\n",
    "        c10.append(j)\n",
    "    elif i == 6:\n",
    "        c11.append(j)\n",
    "    \n",
    "\n",
    "print(json.dumps(c1[:10], indent = 2, ensure_ascii = False),\"\\n\\n\")\n",
    "print(json.dumps(c2[:10], indent = 2, ensure_ascii = False),\"\\n\\n\")\n",
    "print(json.dumps(c3[:10], indent = 2, ensure_ascii = False),\"\\n\\n\")\n",
    "print(json.dumps(c4[:10], indent = 2, ensure_ascii = False),\"\\n\\n\")\n",
    "print(json.dumps(c5[:10], indent = 2, ensure_ascii = False),\"\\n\\n\")\n",
    "print(json.dumps(c6[:10], indent = 2, ensure_ascii = False),\"\\n\\n\")\n",
    "print(json.dumps(c7[:10], indent = 2, ensure_ascii = False),\"\\n\\n\")\n",
    "print(json.dumps(c8[:10], indent = 2, ensure_ascii = False),\"\\n\\n\")\n",
    "print(json.dumps(c9[:10], indent = 2, ensure_ascii = False),\"\\n\\n\")\n",
    "print(json.dumps(c10[:10], indent = 2, ensure_ascii = False),\"\\n\\n\")\n",
    "print(json.dumps(c11[:10], indent = 2, ensure_ascii = False),\"\\n\\n\")\n",
    "ans = pd.DataFrame()\n",
    "ans[\"prediction\"] = prediction\n",
    "ans[\"prediction\"].value_counts()"
   ]
  },
  {
   "cell_type": "code",
   "execution_count": 35,
   "id": "e7b9b699",
   "metadata": {},
   "outputs": [
    {
     "name": "stdout",
     "output_type": "stream",
     "text": [
      "[2, 40, 32, 6, 330, 18, 0, 0, 0, 0, 0]\n"
     ]
    }
   ],
   "source": [
    "que = [\"what\", \"why\", \"when\", \"where\", \"name\", \"how\", \"does\", \"which\", \"would\", \"could\", \"should\", \"has\", \"have\", \"whom\", \"whose\", \"question\"]\n",
    "\n",
    "# This is amazing. Thank you for showing all these sensor capabilities. Really inspires ideas for me\n",
    "count = []\n",
    "count1 = 0\n",
    "for i in c1:\n",
    "    z=i.lower()\n",
    "    if any(q in z for q in que):\n",
    "        count1+=1\n",
    "count.append(count1)\n",
    "\n",
    "count1=0\n",
    "for i in c2:\n",
    "    z=i.lower()\n",
    "    if any(q in z for q in que):\n",
    "        count1+=1\n",
    "count.append(count1)\n",
    "\n",
    "count1=0\n",
    "for i in c3:\n",
    "    z=i.lower()\n",
    "    if any(q in z for q in que):\n",
    "        count1+=1\n",
    "count.append(count1)\n",
    "\n",
    "count1=0\n",
    "for i in c4:\n",
    "    z=i.lower()\n",
    "    if any(q in z for q in que):\n",
    "        count1+=1\n",
    "count.append(count1)\n",
    "\n",
    "count1=0\n",
    "for i in c5:\n",
    "    z=i.lower()\n",
    "    if any(q in z for q in que):\n",
    "        count1+=1\n",
    "count.append(count1)\n",
    "\n",
    "count1=0\n",
    "for i in c6:\n",
    "    z=i.lower()\n",
    "    if any(q in z for q in que):\n",
    "        count1+=1\n",
    "count.append(count1)\n",
    "\n",
    "count1=0\n",
    "for i in c7:\n",
    "    z=i.lower()\n",
    "    if any(q in z for q in que):\n",
    "        count1+=1\n",
    "count.append(count1)\n",
    "\n",
    "count1=0\n",
    "for i in c8:\n",
    "    z=i.lower()\n",
    "    if any(q in z for q in que):\n",
    "        count1+=1\n",
    "count.append(count1)\n",
    "\n",
    "count1=0\n",
    "for i in c9:\n",
    "    z=i.lower()\n",
    "    if any(q in z for q in que):\n",
    "        count1+=1\n",
    "count.append(count1)\n",
    "\n",
    "count1=0\n",
    "for i in c10:\n",
    "    z=i.lower()\n",
    "    if any(q in z for q in que):\n",
    "        count1+=1\n",
    "count.append(count1)\n",
    "\n",
    "count1=0\n",
    "for i in c11:\n",
    "    z=i.lower()\n",
    "    if any(q in z for q in que):\n",
    "        count1+=1\n",
    "count.append(count1)\n",
    "\n",
    "print(count)"
   ]
  },
  {
   "cell_type": "code",
   "execution_count": null,
   "id": "376724a5",
   "metadata": {},
   "outputs": [],
   "source": []
  }
 ],
 "metadata": {
  "colab": {
   "provenance": []
  },
  "kernelspec": {
   "display_name": "Python 3 (ipykernel)",
   "language": "python",
   "name": "python3"
  },
  "language_info": {
   "codemirror_mode": {
    "name": "ipython",
    "version": 3
   },
   "file_extension": ".py",
   "mimetype": "text/x-python",
   "name": "python",
   "nbconvert_exporter": "python",
   "pygments_lexer": "ipython3",
   "version": "3.9.13"
  }
 },
 "nbformat": 4,
 "nbformat_minor": 5
}
